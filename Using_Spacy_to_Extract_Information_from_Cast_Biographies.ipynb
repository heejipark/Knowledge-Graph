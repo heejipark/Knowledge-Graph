{
  "cells": [
    {
      "cell_type": "markdown",
      "metadata": {
        "id": "view-in-github",
        "colab_type": "text"
      },
      "source": [
        "<a href=\"https://colab.research.google.com/github/heejipark/Knowlege-graph/blob/master/Using_Spacy_to_Extract_Information_from_Cast_Biographies.ipynb\" target=\"_parent\"><img src=\"https://colab.research.google.com/assets/colab-badge.svg\" alt=\"Open In Colab\"/></a>"
      ]
    },
    {
      "cell_type": "markdown",
      "metadata": {
        "id": "zhbJx2FSlP60"
      },
      "source": [
        "# Using SpaCy to Extract Information from Cast Biographies\n",
        "\n",
        "<sub>Content of this notebook was prepared by Basel Shbita (shbita@usc.edu) as part of the class <u>INF 558: Building Knowledge Graphs</u></sub>"
      ]
    },
    {
      "cell_type": "markdown",
      "metadata": {
        "id": "IgQJ-KixlP61"
      },
      "source": [
        "SpaCy is an open-source software library for advanced natural language processing (NLP). SpaCy provides a one-stop-shop for tasks commonly used in any NLP project, including: Tokenisation, Lemmatisation, Part-of-speech (POS) tagging, Entity recognition, Dependency parsing, Sentence recognition, Word-to-vector transformations and many more methods for cleaning and normalising text data.\n",
        "\n",
        "This notebook introduces some applied examples of NLP tasks to extract information from unstructured data using spaCy. The extracted structured data we produce can be used for downstream applications, such as creating Knowledge Graphs!"
      ]
    },
    {
      "cell_type": "code",
      "execution_count": null,
      "metadata": {
        "id": "N9-JKXCVlP62",
        "outputId": "7a1ffb05-87e0-48a6-a778-9257076dc287"
      },
      "outputs": [
        {
          "name": "stdout",
          "output_type": "stream",
          "text": [
            "Collecting spacy\n",
            "  Downloading spacy-3.1.2-cp39-cp39-macosx_10_9_x86_64.whl (6.2 MB)\n",
            "\u001b[K     |████████████████████████████████| 6.2 MB 4.7 MB/s eta 0:00:01\n",
            "\u001b[?25hCollecting cymem<2.1.0,>=2.0.2\n",
            "  Downloading cymem-2.0.5-cp39-cp39-macosx_10_9_x86_64.whl (32 kB)\n",
            "Collecting murmurhash<1.1.0,>=0.28.0\n",
            "  Downloading murmurhash-1.0.5-cp39-cp39-macosx_10_9_x86_64.whl (18 kB)\n",
            "Collecting wasabi<1.1.0,>=0.8.1\n",
            "  Downloading wasabi-0.8.2-py3-none-any.whl (23 kB)\n",
            "Collecting typer<0.4.0,>=0.3.0\n",
            "  Downloading typer-0.3.2-py3-none-any.whl (21 kB)\n",
            "Collecting pydantic!=1.8,!=1.8.1,<1.9.0,>=1.7.4\n",
            "  Downloading pydantic-1.8.2-cp39-cp39-macosx_10_9_x86_64.whl (2.7 MB)\n",
            "\u001b[K     |████████████████████████████████| 2.7 MB 6.3 MB/s eta 0:00:01     |███████▎                        | 614 kB 6.3 MB/s eta 0:00:01\n",
            "\u001b[?25hRequirement already satisfied: jinja2 in /Users/avijitthawani/opt/miniconda3/envs/hw1/lib/python3.9/site-packages (from spacy) (3.0.1)\n",
            "Requirement already satisfied: setuptools in /Users/avijitthawani/opt/miniconda3/envs/hw1/lib/python3.9/site-packages (from spacy) (52.0.0.post20210125)\n",
            "Collecting blis<0.8.0,>=0.4.0\n",
            "  Downloading blis-0.7.4-cp39-cp39-macosx_10_9_x86_64.whl (5.8 MB)\n",
            "\u001b[K     |████████████████████████████████| 5.8 MB 7.9 MB/s eta 0:00:01\n",
            "\u001b[?25hCollecting pathy>=0.3.5\n",
            "  Downloading pathy-0.6.0-py3-none-any.whl (42 kB)\n",
            "\u001b[K     |████████████████████████████████| 42 kB 2.8 MB/s  eta 0:00:01\n",
            "\u001b[?25hRequirement already satisfied: requests<3.0.0,>=2.13.0 in /Users/avijitthawani/opt/miniconda3/envs/hw1/lib/python3.9/site-packages (from spacy) (2.26.0)\n",
            "Collecting tqdm<5.0.0,>=4.38.0\n",
            "  Downloading tqdm-4.62.2-py2.py3-none-any.whl (76 kB)\n",
            "\u001b[K     |████████████████████████████████| 76 kB 7.2 MB/s  eta 0:00:01\n",
            "\u001b[?25hCollecting srsly<3.0.0,>=2.4.1\n",
            "  Downloading srsly-2.4.1-cp39-cp39-macosx_10_9_x86_64.whl (452 kB)\n",
            "\u001b[K     |████████████████████████████████| 452 kB 6.6 MB/s eta 0:00:01\n",
            "\u001b[?25hCollecting numpy>=1.15.0\n",
            "  Downloading numpy-1.21.2-cp39-cp39-macosx_10_9_x86_64.whl (17.0 MB)\n",
            "\u001b[K     |████████████████████████████████| 17.0 MB 7.2 MB/s eta 0:00:01\n",
            "\u001b[?25hCollecting catalogue<2.1.0,>=2.0.4\n",
            "  Downloading catalogue-2.0.6-py3-none-any.whl (17 kB)\n",
            "Collecting preshed<3.1.0,>=3.0.2\n",
            "  Downloading preshed-3.0.5-cp39-cp39-macosx_10_9_x86_64.whl (106 kB)\n",
            "\u001b[K     |████████████████████████████████| 106 kB 6.5 MB/s eta 0:00:01\n",
            "\u001b[?25hRequirement already satisfied: packaging>=20.0 in /Users/avijitthawani/opt/miniconda3/envs/hw1/lib/python3.9/site-packages (from spacy) (21.0)\n",
            "Collecting spacy-legacy<3.1.0,>=3.0.7\n",
            "  Downloading spacy_legacy-3.0.8-py2.py3-none-any.whl (14 kB)\n",
            "Collecting thinc<8.1.0,>=8.0.8\n",
            "  Downloading thinc-8.0.8-cp39-cp39-macosx_10_9_x86_64.whl (604 kB)\n",
            "\u001b[K     |████████████████████████████████| 604 kB 8.6 MB/s eta 0:00:01\n",
            "\u001b[?25hRequirement already satisfied: pyparsing>=2.0.2 in /Users/avijitthawani/opt/miniconda3/envs/hw1/lib/python3.9/site-packages (from packaging>=20.0->spacy) (2.4.7)\n",
            "Collecting smart-open<6.0.0,>=5.0.0\n",
            "  Downloading smart_open-5.2.1-py3-none-any.whl (58 kB)\n",
            "\u001b[K     |████████████████████████████████| 58 kB 9.2 MB/s  eta 0:00:01\n",
            "\u001b[?25hRequirement already satisfied: typing-extensions>=3.7.4.3 in /Users/avijitthawani/opt/miniconda3/envs/hw1/lib/python3.9/site-packages (from pydantic!=1.8,!=1.8.1,<1.9.0,>=1.7.4->spacy) (3.10.0.0)\n",
            "Requirement already satisfied: urllib3<1.27,>=1.21.1 in /Users/avijitthawani/opt/miniconda3/envs/hw1/lib/python3.9/site-packages (from requests<3.0.0,>=2.13.0->spacy) (1.26.6)\n",
            "Requirement already satisfied: idna<4,>=2.5 in /Users/avijitthawani/opt/miniconda3/envs/hw1/lib/python3.9/site-packages (from requests<3.0.0,>=2.13.0->spacy) (3.2)\n",
            "Requirement already satisfied: charset-normalizer~=2.0.0 in /Users/avijitthawani/opt/miniconda3/envs/hw1/lib/python3.9/site-packages (from requests<3.0.0,>=2.13.0->spacy) (2.0.4)\n",
            "Requirement already satisfied: certifi>=2017.4.17 in /Users/avijitthawani/opt/miniconda3/envs/hw1/lib/python3.9/site-packages (from requests<3.0.0,>=2.13.0->spacy) (2021.5.30)\n",
            "Collecting click<7.2.0,>=7.1.1\n",
            "  Downloading click-7.1.2-py2.py3-none-any.whl (82 kB)\n",
            "\u001b[K     |████████████████████████████████| 82 kB 2.5 MB/s  eta 0:00:01\n",
            "\u001b[?25hRequirement already satisfied: MarkupSafe>=2.0 in /Users/avijitthawani/opt/miniconda3/envs/hw1/lib/python3.9/site-packages (from jinja2->spacy) (2.0.1)\n",
            "Installing collected packages: numpy, murmurhash, cymem, click, catalogue, wasabi, typer, srsly, smart-open, pydantic, preshed, blis, tqdm, thinc, spacy-legacy, pathy, spacy\n",
            "Successfully installed blis-0.7.4 catalogue-2.0.6 click-7.1.2 cymem-2.0.5 murmurhash-1.0.5 numpy-1.21.2 pathy-0.6.0 preshed-3.0.5 pydantic-1.8.2 smart-open-5.2.1 spacy-3.1.2 spacy-legacy-3.0.8 srsly-2.4.1 thinc-8.0.8 tqdm-4.62.2 typer-0.3.2 wasabi-0.8.2\n"
          ]
        }
      ],
      "source": [
        "!pip install spacy"
      ]
    },
    {
      "cell_type": "markdown",
      "metadata": {
        "id": "ew7hlXhVlP63"
      },
      "source": [
        "## Language Model"
      ]
    },
    {
      "cell_type": "markdown",
      "metadata": {
        "id": "ZYqVBqMclP63"
      },
      "source": [
        "There are various different types of models in spaCy. We well use an available pretrained statistical model for English (`en_core_web_sm`). Let’s download then load it."
      ]
    },
    {
      "cell_type": "code",
      "execution_count": null,
      "metadata": {
        "id": "4WCAjAkNlP63",
        "outputId": "b6068a73-69b0-40b2-da02-9064009c6393"
      },
      "outputs": [
        {
          "name": "stdout",
          "output_type": "stream",
          "text": [
            "Collecting en-core-web-sm==3.1.0\n",
            "  Downloading https://github.com/explosion/spacy-models/releases/download/en_core_web_sm-3.1.0/en_core_web_sm-3.1.0-py3-none-any.whl (13.6 MB)\n",
            "\u001b[K     |████████████████████████████████| 13.6 MB 6.3 MB/s eta 0:00:01\n",
            "\u001b[?25hRequirement already satisfied: spacy<3.2.0,>=3.1.0 in /Users/avijitthawani/opt/miniconda3/envs/hw1/lib/python3.9/site-packages (from en-core-web-sm==3.1.0) (3.1.2)\n",
            "Requirement already satisfied: thinc<8.1.0,>=8.0.8 in /Users/avijitthawani/opt/miniconda3/envs/hw1/lib/python3.9/site-packages (from spacy<3.2.0,>=3.1.0->en-core-web-sm==3.1.0) (8.0.8)\n",
            "Requirement already satisfied: typer<0.4.0,>=0.3.0 in /Users/avijitthawani/opt/miniconda3/envs/hw1/lib/python3.9/site-packages (from spacy<3.2.0,>=3.1.0->en-core-web-sm==3.1.0) (0.3.2)\n",
            "Requirement already satisfied: tqdm<5.0.0,>=4.38.0 in /Users/avijitthawani/opt/miniconda3/envs/hw1/lib/python3.9/site-packages (from spacy<3.2.0,>=3.1.0->en-core-web-sm==3.1.0) (4.62.2)\n",
            "Requirement already satisfied: numpy>=1.15.0 in /Users/avijitthawani/opt/miniconda3/envs/hw1/lib/python3.9/site-packages (from spacy<3.2.0,>=3.1.0->en-core-web-sm==3.1.0) (1.21.2)\n",
            "Requirement already satisfied: murmurhash<1.1.0,>=0.28.0 in /Users/avijitthawani/opt/miniconda3/envs/hw1/lib/python3.9/site-packages (from spacy<3.2.0,>=3.1.0->en-core-web-sm==3.1.0) (1.0.5)\n",
            "Requirement already satisfied: wasabi<1.1.0,>=0.8.1 in /Users/avijitthawani/opt/miniconda3/envs/hw1/lib/python3.9/site-packages (from spacy<3.2.0,>=3.1.0->en-core-web-sm==3.1.0) (0.8.2)\n",
            "Requirement already satisfied: requests<3.0.0,>=2.13.0 in /Users/avijitthawani/opt/miniconda3/envs/hw1/lib/python3.9/site-packages (from spacy<3.2.0,>=3.1.0->en-core-web-sm==3.1.0) (2.26.0)\n",
            "Requirement already satisfied: blis<0.8.0,>=0.4.0 in /Users/avijitthawani/opt/miniconda3/envs/hw1/lib/python3.9/site-packages (from spacy<3.2.0,>=3.1.0->en-core-web-sm==3.1.0) (0.7.4)\n",
            "Requirement already satisfied: srsly<3.0.0,>=2.4.1 in /Users/avijitthawani/opt/miniconda3/envs/hw1/lib/python3.9/site-packages (from spacy<3.2.0,>=3.1.0->en-core-web-sm==3.1.0) (2.4.1)\n",
            "Requirement already satisfied: catalogue<2.1.0,>=2.0.4 in /Users/avijitthawani/opt/miniconda3/envs/hw1/lib/python3.9/site-packages (from spacy<3.2.0,>=3.1.0->en-core-web-sm==3.1.0) (2.0.6)\n",
            "Requirement already satisfied: setuptools in /Users/avijitthawani/opt/miniconda3/envs/hw1/lib/python3.9/site-packages (from spacy<3.2.0,>=3.1.0->en-core-web-sm==3.1.0) (52.0.0.post20210125)\n",
            "Requirement already satisfied: pydantic!=1.8,!=1.8.1,<1.9.0,>=1.7.4 in /Users/avijitthawani/opt/miniconda3/envs/hw1/lib/python3.9/site-packages (from spacy<3.2.0,>=3.1.0->en-core-web-sm==3.1.0) (1.8.2)\n",
            "Requirement already satisfied: spacy-legacy<3.1.0,>=3.0.7 in /Users/avijitthawani/opt/miniconda3/envs/hw1/lib/python3.9/site-packages (from spacy<3.2.0,>=3.1.0->en-core-web-sm==3.1.0) (3.0.8)\n",
            "Requirement already satisfied: cymem<2.1.0,>=2.0.2 in /Users/avijitthawani/opt/miniconda3/envs/hw1/lib/python3.9/site-packages (from spacy<3.2.0,>=3.1.0->en-core-web-sm==3.1.0) (2.0.5)\n",
            "Requirement already satisfied: jinja2 in /Users/avijitthawani/opt/miniconda3/envs/hw1/lib/python3.9/site-packages (from spacy<3.2.0,>=3.1.0->en-core-web-sm==3.1.0) (3.0.1)\n",
            "Requirement already satisfied: preshed<3.1.0,>=3.0.2 in /Users/avijitthawani/opt/miniconda3/envs/hw1/lib/python3.9/site-packages (from spacy<3.2.0,>=3.1.0->en-core-web-sm==3.1.0) (3.0.5)\n",
            "Requirement already satisfied: pathy>=0.3.5 in /Users/avijitthawani/opt/miniconda3/envs/hw1/lib/python3.9/site-packages (from spacy<3.2.0,>=3.1.0->en-core-web-sm==3.1.0) (0.6.0)\n",
            "Requirement already satisfied: packaging>=20.0 in /Users/avijitthawani/opt/miniconda3/envs/hw1/lib/python3.9/site-packages (from spacy<3.2.0,>=3.1.0->en-core-web-sm==3.1.0) (21.0)\n",
            "Requirement already satisfied: pyparsing>=2.0.2 in /Users/avijitthawani/opt/miniconda3/envs/hw1/lib/python3.9/site-packages (from packaging>=20.0->spacy<3.2.0,>=3.1.0->en-core-web-sm==3.1.0) (2.4.7)\n",
            "Requirement already satisfied: smart-open<6.0.0,>=5.0.0 in /Users/avijitthawani/opt/miniconda3/envs/hw1/lib/python3.9/site-packages (from pathy>=0.3.5->spacy<3.2.0,>=3.1.0->en-core-web-sm==3.1.0) (5.2.1)\n",
            "Requirement already satisfied: typing-extensions>=3.7.4.3 in /Users/avijitthawani/opt/miniconda3/envs/hw1/lib/python3.9/site-packages (from pydantic!=1.8,!=1.8.1,<1.9.0,>=1.7.4->spacy<3.2.0,>=3.1.0->en-core-web-sm==3.1.0) (3.10.0.0)\n",
            "Requirement already satisfied: urllib3<1.27,>=1.21.1 in /Users/avijitthawani/opt/miniconda3/envs/hw1/lib/python3.9/site-packages (from requests<3.0.0,>=2.13.0->spacy<3.2.0,>=3.1.0->en-core-web-sm==3.1.0) (1.26.6)\n",
            "Requirement already satisfied: charset-normalizer~=2.0.0 in /Users/avijitthawani/opt/miniconda3/envs/hw1/lib/python3.9/site-packages (from requests<3.0.0,>=2.13.0->spacy<3.2.0,>=3.1.0->en-core-web-sm==3.1.0) (2.0.4)\n",
            "Requirement already satisfied: certifi>=2017.4.17 in /Users/avijitthawani/opt/miniconda3/envs/hw1/lib/python3.9/site-packages (from requests<3.0.0,>=2.13.0->spacy<3.2.0,>=3.1.0->en-core-web-sm==3.1.0) (2021.5.30)\n",
            "Requirement already satisfied: idna<4,>=2.5 in /Users/avijitthawani/opt/miniconda3/envs/hw1/lib/python3.9/site-packages (from requests<3.0.0,>=2.13.0->spacy<3.2.0,>=3.1.0->en-core-web-sm==3.1.0) (3.2)\n",
            "Requirement already satisfied: click<7.2.0,>=7.1.1 in /Users/avijitthawani/opt/miniconda3/envs/hw1/lib/python3.9/site-packages (from typer<0.4.0,>=0.3.0->spacy<3.2.0,>=3.1.0->en-core-web-sm==3.1.0) (7.1.2)\n",
            "Requirement already satisfied: MarkupSafe>=2.0 in /Users/avijitthawani/opt/miniconda3/envs/hw1/lib/python3.9/site-packages (from jinja2->spacy<3.2.0,>=3.1.0->en-core-web-sm==3.1.0) (2.0.1)\n",
            "Installing collected packages: en-core-web-sm\n",
            "Successfully installed en-core-web-sm-3.1.0\n",
            "\u001b[38;5;2m✔ Download and installation successful\u001b[0m\n",
            "You can now load the package via spacy.load('en_core_web_sm')\n"
          ]
        }
      ],
      "source": [
        "!python -m spacy download en_core_web_sm"
      ]
    },
    {
      "cell_type": "code",
      "execution_count": null,
      "metadata": {
        "id": "cutUvn80lP63"
      },
      "outputs": [],
      "source": [
        "import spacy\n",
        "import en_core_web_sm\n",
        "import csv"
      ]
    },
    {
      "cell_type": "markdown",
      "metadata": {
        "id": "RYHKKYwjlP64"
      },
      "source": [
        "We will store the model in an nlp object which is a language model instance."
      ]
    },
    {
      "cell_type": "code",
      "execution_count": null,
      "metadata": {
        "id": "68g5ALg6lP64"
      },
      "outputs": [],
      "source": [
        "nlp = en_core_web_sm.load()"
      ]
    },
    {
      "cell_type": "markdown",
      "metadata": {
        "id": "IpGxJrJulP64"
      },
      "source": [
        "## Sentence Segmentation"
      ]
    },
    {
      "cell_type": "markdown",
      "metadata": {
        "id": "nXLfawH8lP65"
      },
      "source": [
        "Sentence Segmentation is the process of locating the start and end of sentences in a given text. This allows you to you divide a text into linguistically meaningful units. You’ll use these units when you’re processing your text to perform tasks such as part of speech tagging and entity extraction."
      ]
    },
    {
      "cell_type": "markdown",
      "metadata": {
        "id": "JOYCQrsTlP65"
      },
      "source": [
        "First, let's load a cast biography from the provided sxample `tsv` file"
      ]
    },
    {
      "cell_type": "code",
      "execution_count": null,
      "metadata": {
        "id": "XPc2HWZzlP65",
        "outputId": "44cd53cd-1b3a-4be4-8fb8-961db5388c64"
      },
      "outputs": [
        {
          "name": "stdout",
          "output_type": "stream",
          "text": [
            "[ 0] > https://www.goodreads.com/author/show/1077326.J_K_Rowling\n"
          ]
        }
      ],
      "source": [
        "data = [\n",
        "    [\"https://www.goodreads.com/author/show/1077326.J_K_Rowling\", \"\"\"See also: Robert GalbraithAlthough she writes under the pen name J.K. Rowling, pronounced like rolling, her name when her first Harry Potter book was published was simply Joanne Rowling. Anticipating that the target audience of young boys might not want to read a book written by a woman, her publishers demanded that she use two initials, rather than her full name. As she had no middle name, she chose K as the second initial of her pen name, from her paternal grandmother Kathleen Ada Bulgen Rowling. She calls herself Jo and has said, \\\"No one ever called me 'Joanne' when I was young, unless they were angry.\\\" Following her marriage, she has sometimes used the name Joanne Murray when conducting personal business. During the Leveson Inquiry she gave evidence under the name of Joanne Kathleen Rowling. In a 2012 interview, Rowling noted that she no longer cared that people pronounced her name incorrectly. Rowling was born to Peter James Rowling, a Rolls-Royce aircraft engineer, and Anne Rowling (n\\u00e9e Volant), on 31 July 1965 in Yate, Gloucestershire, England, 10 miles (16 km) northeast of Bristol. Her mother Anne was half-French and half-Scottish. Her parents first met on a train departing from King's Cross Station bound for Arbroath in 1964. They married on 14 March 1965. Her mother's maternal grandfather, Dugald Campbell, was born in Lamlash on the Isle of Arran. Her mother's paternal grandfather, Louis Volant, was awarded the Croix de Guerre for exceptional bravery in defending the village of Courcelles-le-Comte during the First World War.Rowling's sister Dianne was born at their home when Rowling was 23 months old. The family moved to the nearby village Winterbourne when Rowling was four. She attended St Michael's Primary School, a school founded by abolitionist William Wilberforce and education reformer Hannah More. Her headmaster at St Michael's, Alfred Dunn, has been suggested as the inspiration for the Harry Potter headmaster Albus Dumbledore.As a child, Rowling often wrote fantasy stories, which she would usually then read to her sister. She recalls that: \\\"I can still remember me telling her a story in which she fell down a rabbit hole and was fed strawberries by the rabbit family inside it. Certainly the first story I ever wrote down (when I was five or six) was about a rabbit called Rabbit. He got the measles and was visited by his friends, including a giant bee called Miss Bee.\\\" At the age of nine, Rowling moved to Church Cottage in the Gloucestershire village of Tutshill, close to Chepstow, Wales. When she was a young teenager, her great aunt, who Rowling said \\\"taught classics and approved of a thirst for knowledge, even of a questionable kind,\\\" gave her a very old copy of Jessica Mitford's autobiography, Hons and Rebels. Mitford became Rowling's heroine, and Rowling subsequently read all of her books.Rowling has said of her teenage years, in an interview with The New Yorker, \\\"I wasn\\u2019t particularly happy. I think it\\u2019s a dreadful time of life.\\\" She had a difficult homelife; her mother was ill and she had a difficult relationship with her father (she is no longer on speaking terms with him). She attended secondary school at Wyedean School and College, where her mother had worked as a technician in the science department. Rowling said of her adolescence, \\\"Hermione [a bookish, know-it-all Harry Potter character] is loosely based on me. She's a caricature of me when I was eleven, which I'm not particularly proud of.\\\" Steve Eddy, who taught Rowling English when she first arrived, remembers her as \\\"not exceptional\\\" but \\\"one of a group of girls who were bright, and quite good at English.\\\" Sean Harris, her best friend in the Upper Sixth owned a turquoise Ford Anglia, which she says inspired the one in her books.\"\"\"]\n",
        "]\n",
        "\n",
        "for (idx, (act, bio)) in enumerate(data):\n",
        "    print(f'[{idx:2d}] >', act)\n",
        "    biog = bio"
      ]
    },
    {
      "cell_type": "markdown",
      "metadata": {
        "id": "mts1SvihlP65"
      },
      "source": [
        "Here's the full biography text:"
      ]
    },
    {
      "cell_type": "code",
      "execution_count": null,
      "metadata": {
        "id": "R6m7XhaelP66",
        "outputId": "948b5b0c-f2b6-4be1-a6bf-8c62df5a6ac6"
      },
      "outputs": [
        {
          "data": {
            "text/plain": [
              "'See also: Robert GalbraithAlthough she writes under the pen name J.K. Rowling, pronounced like rolling, her name when her first Harry Potter book was published was simply Joanne Rowling. Anticipating that the target audience of young boys might not want to read a book written by a woman, her publishers demanded that she use two initials, rather than her full name. As she had no middle name, she chose K as the second initial of her pen name, from her paternal grandmother Kathleen Ada Bulgen Rowling. She calls herself Jo and has said, \"No one ever called me \\'Joanne\\' when I was young, unless they were angry.\" Following her marriage, she has sometimes used the name Joanne Murray when conducting personal business. During the Leveson Inquiry she gave evidence under the name of Joanne Kathleen Rowling. In a 2012 interview, Rowling noted that she no longer cared that people pronounced her name incorrectly. Rowling was born to Peter James Rowling, a Rolls-Royce aircraft engineer, and Anne Rowling (née Volant), on 31 July 1965 in Yate, Gloucestershire, England, 10 miles (16 km) northeast of Bristol. Her mother Anne was half-French and half-Scottish. Her parents first met on a train departing from King\\'s Cross Station bound for Arbroath in 1964. They married on 14 March 1965. Her mother\\'s maternal grandfather, Dugald Campbell, was born in Lamlash on the Isle of Arran. Her mother\\'s paternal grandfather, Louis Volant, was awarded the Croix de Guerre for exceptional bravery in defending the village of Courcelles-le-Comte during the First World War.Rowling\\'s sister Dianne was born at their home when Rowling was 23 months old. The family moved to the nearby village Winterbourne when Rowling was four. She attended St Michael\\'s Primary School, a school founded by abolitionist William Wilberforce and education reformer Hannah More. Her headmaster at St Michael\\'s, Alfred Dunn, has been suggested as the inspiration for the Harry Potter headmaster Albus Dumbledore.As a child, Rowling often wrote fantasy stories, which she would usually then read to her sister. She recalls that: \"I can still remember me telling her a story in which she fell down a rabbit hole and was fed strawberries by the rabbit family inside it. Certainly the first story I ever wrote down (when I was five or six) was about a rabbit called Rabbit. He got the measles and was visited by his friends, including a giant bee called Miss Bee.\" At the age of nine, Rowling moved to Church Cottage in the Gloucestershire village of Tutshill, close to Chepstow, Wales. When she was a young teenager, her great aunt, who Rowling said \"taught classics and approved of a thirst for knowledge, even of a questionable kind,\" gave her a very old copy of Jessica Mitford\\'s autobiography, Hons and Rebels. Mitford became Rowling\\'s heroine, and Rowling subsequently read all of her books.Rowling has said of her teenage years, in an interview with The New Yorker, \"I wasn’t particularly happy. I think it’s a dreadful time of life.\" She had a difficult homelife; her mother was ill and she had a difficult relationship with her father (she is no longer on speaking terms with him). She attended secondary school at Wyedean School and College, where her mother had worked as a technician in the science department. Rowling said of her adolescence, \"Hermione [a bookish, know-it-all Harry Potter character] is loosely based on me. She\\'s a caricature of me when I was eleven, which I\\'m not particularly proud of.\" Steve Eddy, who taught Rowling English when she first arrived, remembers her as \"not exceptional\" but \"one of a group of girls who were bright, and quite good at English.\" Sean Harris, her best friend in the Upper Sixth owned a turquoise Ford Anglia, which she says inspired the one in her books.'"
            ]
          },
          "execution_count": 6,
          "metadata": {},
          "output_type": "execute_result"
        }
      ],
      "source": [
        "biog"
      ]
    },
    {
      "cell_type": "markdown",
      "metadata": {
        "id": "eMJ-u-SxlP66"
      },
      "source": [
        "Let’s read a text using spaCy and store in a `doc` object which is a container for accessing linguistic annotations."
      ]
    },
    {
      "cell_type": "code",
      "execution_count": null,
      "metadata": {
        "id": "n_RzhsfnlP66"
      },
      "outputs": [],
      "source": [
        "doc = nlp(biog)"
      ]
    },
    {
      "cell_type": "markdown",
      "metadata": {
        "id": "UdqTFC5vlP66"
      },
      "source": [
        "In spaCy, the `sents` property is used to extract sentences. Here’s how you would extract the sentences for a given input text:"
      ]
    },
    {
      "cell_type": "code",
      "execution_count": null,
      "metadata": {
        "id": "hH5a8ANdlP66",
        "outputId": "519cdef3-e434-48d0-f26b-28a592fe1f2b"
      },
      "outputs": [
        {
          "name": "stdout",
          "output_type": "stream",
          "text": [
            "[ 0] > See also: Robert GalbraithAlthough she writes under the pen name J.K. Rowling, pronounced like rolling, her name when her first Harry Potter book was published was simply Joanne Rowling.\n",
            "[ 1] > Anticipating that the target audience of young boys might not want to read a book written by a woman, her publishers demanded that she use two initials, rather than her full name.\n",
            "[ 2] > As she had no middle name, she chose K as the second initial of her pen name, from her paternal grandmother Kathleen Ada Bulgen Rowling.\n",
            "[ 3] > She calls herself Jo and has said, \"No one ever called me 'Joanne' when I was young, unless they were angry.\n",
            "[ 4] > \" Following her marriage, she has sometimes used the name Joanne Murray when conducting personal business.\n",
            "[ 5] > During the Leveson Inquiry she gave evidence under the name of Joanne Kathleen Rowling.\n",
            "[ 6] > In a 2012 interview, Rowling noted that she no longer cared that people pronounced her name incorrectly.\n",
            "[ 7] > Rowling was born to Peter James Rowling, a Rolls-Royce aircraft engineer, and Anne Rowling (née Volant), on 31 July 1965 in Yate, Gloucestershire, England, 10 miles (16 km) northeast of Bristol.\n",
            "[ 8] > Her mother Anne was half-French and half-Scottish.\n",
            "[ 9] > Her parents first met on a train departing from King's Cross Station bound for Arbroath in 1964.\n",
            "[10] > They married on 14 March 1965.\n",
            "[11] > Her mother's maternal grandfather, Dugald Campbell, was born in Lamlash on the Isle of Arran.\n",
            "[12] > Her mother's paternal grandfather, Louis Volant, was awarded the Croix de Guerre for exceptional bravery in defending the village of Courcelles-le-Comte during the First World War.\n",
            "[13] > Rowling's sister Dianne was born at their home when Rowling was 23 months old.\n",
            "[14] > The family moved to the nearby village Winterbourne when Rowling was four.\n",
            "[15] > She attended St Michael's Primary School, a school founded by abolitionist William Wilberforce and education reformer Hannah More.\n",
            "[16] > Her headmaster at St Michael's, Alfred Dunn, has been suggested as the inspiration for the Harry Potter headmaster Albus Dumbledore.\n",
            "[17] > As a child, Rowling often wrote fantasy stories, which she would usually then read to her sister.\n",
            "[18] > She recalls that: \"I can still remember me telling her a story in which she fell down a rabbit hole and was fed strawberries by the rabbit family inside it.\n",
            "[19] > Certainly the first story I ever wrote down (when I was five or six) was about a rabbit called Rabbit.\n",
            "[20] > He got the measles and was visited by his friends, including a giant bee called Miss Bee.\"\n",
            "[21] > At the age of nine, Rowling moved to Church Cottage in the Gloucestershire village of Tutshill, close to Chepstow, Wales.\n",
            "[22] > When she was a young teenager, her great aunt, who Rowling said \"taught classics and approved of a thirst for knowledge, even of a questionable kind,\" gave her a very old copy of Jessica Mitford's autobiography, Hons and Rebels.\n",
            "[23] > Mitford became Rowling's heroine, and Rowling subsequently read all of her books.\n",
            "[24] > Rowling has said of her teenage years, in an interview with The New Yorker, \"I wasn’t particularly happy.\n",
            "[25] > I think it’s a dreadful time of life.\n",
            "[26] > \"\n",
            "[27] > She had a difficult homelife; her mother was ill and she had a difficult relationship with her father (she is no longer on speaking terms with him).\n",
            "[28] > She attended secondary school at Wyedean School and College, where her mother had worked as a technician in the science department.\n",
            "[29] > Rowling said of her adolescence, \"Hermione [a bookish, know-it-all Harry Potter character] is loosely based on me.\n",
            "[30] > She's a caricature of me when I was eleven, which I'm not particularly proud of.\"\n",
            "[31] > Steve Eddy, who taught Rowling English when she first arrived, remembers her as \"not exceptional\" but \"one of a group of girls who were bright, and quite good at English.\n",
            "[32] > \"\n",
            "[33] > Sean Harris, her best friend in the Upper Sixth owned a turquoise Ford Anglia, which she says inspired the one in her books.\n"
          ]
        }
      ],
      "source": [
        "for idx, sent in enumerate(doc.sents):\n",
        "    print(f'[{idx:2d}] >', sent)\n",
        "    if idx == 7:\n",
        "        mysent = sent"
      ]
    },
    {
      "cell_type": "markdown",
      "metadata": {
        "id": "LrHM6vfXlP66"
      },
      "source": [
        "Here's the sentence we will work on moving forward:"
      ]
    },
    {
      "cell_type": "code",
      "execution_count": null,
      "metadata": {
        "id": "EFookWGWlP66",
        "outputId": "ea9db09e-5d8b-488e-888f-c9b4f903c1b0"
      },
      "outputs": [
        {
          "data": {
            "text/plain": [
              "Rowling was born to Peter James Rowling, a Rolls-Royce aircraft engineer, and Anne Rowling (née Volant), on 31 July 1965 in Yate, Gloucestershire, England, 10 miles (16 km) northeast of Bristol."
            ]
          },
          "execution_count": 11,
          "metadata": {},
          "output_type": "execute_result"
        }
      ],
      "source": [
        "mysent"
      ]
    },
    {
      "cell_type": "markdown",
      "metadata": {
        "id": "UzF9grdklP66"
      },
      "source": [
        "## Tokenization & POS tagging"
      ]
    },
    {
      "cell_type": "markdown",
      "metadata": {
        "id": "1V57R9vflP66"
      },
      "source": [
        "Tokenization is the next step after sentence detection. It allows you to identify the basic units in your text. These basic units are called tokens. Tokenization is useful because it breaks a text into meaningful units. These units are used for further analysis, like part of speech tagging.\n",
        "\n",
        "Parts-of-speech (POS) is a grammatical role that explains how a particular word is used in a sentence. There are eight parts-of-speech: Noun, Pronoun, Adjective, Verb, Adverb, Preposition, Conjunction, Interjection.\n",
        "\n",
        "You can print tokens and their POS tages by iterating on the `doc` object:"
      ]
    },
    {
      "cell_type": "code",
      "execution_count": null,
      "metadata": {
        "id": "FXScIIq1lP67",
        "outputId": "c9fef957-0e2a-426b-b412-77fb1c2b0ea1"
      },
      "outputs": [
        {
          "name": "stdout",
          "output_type": "stream",
          "text": [
            "Rowling         [NNP   | PROPN  | noun, proper singular]\n",
            "was             [VBD   | AUX    | verb, past tense]\n",
            "born            [VBN   | VERB   | verb, past participle]\n",
            "to              [IN    | ADP    | conjunction, subordinating or preposition]\n",
            "Peter           [NNP   | PROPN  | noun, proper singular]\n",
            "James           [NNP   | PROPN  | noun, proper singular]\n",
            "Rowling         [NNP   | PROPN  | noun, proper singular]\n",
            ",               [,     | PUNCT  | punctuation mark, comma]\n",
            "a               [DT    | DET    | determiner]\n",
            "Rolls           [NNP   | PROPN  | noun, proper singular]\n",
            "-               [HYPH  | PUNCT  | punctuation mark, hyphen]\n",
            "Royce           [NNP   | PROPN  | noun, proper singular]\n",
            "aircraft        [NN    | NOUN   | noun, singular or mass]\n",
            "engineer        [NN    | NOUN   | noun, singular or mass]\n",
            ",               [,     | PUNCT  | punctuation mark, comma]\n",
            "and             [CC    | CCONJ  | conjunction, coordinating]\n",
            "Anne            [NNP   | PROPN  | noun, proper singular]\n",
            "Rowling         [NNP   | PROPN  | noun, proper singular]\n",
            "(               [-LRB- | PUNCT  | left round bracket]\n",
            "née             [NNP   | PROPN  | noun, proper singular]\n",
            "Volant          [NNP   | PROPN  | noun, proper singular]\n",
            ")               [-RRB- | PUNCT  | right round bracket]\n",
            ",               [,     | PUNCT  | punctuation mark, comma]\n",
            "on              [IN    | ADP    | conjunction, subordinating or preposition]\n",
            "31              [CD    | NUM    | cardinal number]\n",
            "July            [NNP   | PROPN  | noun, proper singular]\n",
            "1965            [CD    | NUM    | cardinal number]\n",
            "in              [IN    | ADP    | conjunction, subordinating or preposition]\n",
            "Yate            [NNP   | PROPN  | noun, proper singular]\n",
            ",               [,     | PUNCT  | punctuation mark, comma]\n",
            "Gloucestershire [NNP   | PROPN  | noun, proper singular]\n",
            ",               [,     | PUNCT  | punctuation mark, comma]\n",
            "England         [NNP   | PROPN  | noun, proper singular]\n",
            ",               [,     | PUNCT  | punctuation mark, comma]\n",
            "10              [CD    | NUM    | cardinal number]\n",
            "miles           [NNS   | NOUN   | noun, plural]\n",
            "(               [-LRB- | PUNCT  | left round bracket]\n",
            "16              [CD    | NUM    | cardinal number]\n",
            "km              [NN    | NOUN   | noun, singular or mass]\n",
            ")               [-RRB- | PUNCT  | right round bracket]\n",
            "northeast       [RB    | ADV    | adverb]\n",
            "of              [IN    | ADP    | conjunction, subordinating or preposition]\n",
            "Bristol         [NNP   | PROPN  | noun, proper singular]\n",
            ".               [.     | PUNCT  | punctuation mark, sentence closer]\n"
          ]
        }
      ],
      "source": [
        "for w in mysent:\n",
        "    print(f'{w.text:15s} [{w.tag_:5s} | {w.pos_:6s} | {spacy.explain(w.tag_)}]')"
      ]
    },
    {
      "cell_type": "markdown",
      "metadata": {
        "id": "-yKPozgclP67"
      },
      "source": [
        "## Relation Extraction & Dependency Parsing"
      ]
    },
    {
      "cell_type": "markdown",
      "metadata": {
        "id": "yzhiEAhblP67"
      },
      "source": [
        "The POS tags alone are not sufficient for various cases and require further analysis like dependency parsing. Dependency parsing is the process of extracting the dependency parse of a sentence to represent its grammatical structure. Now, let’s extract the dependency relations among entities:"
      ]
    },
    {
      "cell_type": "code",
      "execution_count": null,
      "metadata": {
        "id": "C5xsaXKRlP67",
        "outputId": "a500deea-5798-4d78-ea0e-7ed7d8e0eed5"
      },
      "outputs": [
        {
          "name": "stdout",
          "output_type": "stream",
          "text": [
            "Rowling         [nsubjpass]\n",
            "was             [auxpass]\n",
            "born            [ROOT]\n",
            "to              [prep]\n",
            "Peter           [compound]\n",
            "James           [compound]\n",
            "Rowling         [pobj]\n",
            ",               [punct]\n",
            "a               [det]\n",
            "Rolls           [compound]\n",
            "-               [punct]\n",
            "Royce           [compound]\n",
            "aircraft        [compound]\n",
            "engineer        [appos]\n",
            ",               [punct]\n",
            "and             [cc]\n",
            "Anne            [compound]\n",
            "Rowling         [conj]\n",
            "(               [punct]\n",
            "née             [compound]\n",
            "Volant          [appos]\n",
            ")               [punct]\n",
            ",               [punct]\n",
            "on              [prep]\n",
            "31              [nummod]\n",
            "July            [pobj]\n",
            "1965            [nummod]\n",
            "in              [prep]\n",
            "Yate            [pobj]\n",
            ",               [punct]\n",
            "Gloucestershire [conj]\n",
            ",               [punct]\n",
            "England         [conj]\n",
            ",               [punct]\n",
            "10              [nummod]\n",
            "miles           [appos]\n",
            "(               [punct]\n",
            "16              [nummod]\n",
            "km              [appos]\n",
            ")               [punct]\n",
            "northeast       [advmod]\n",
            "of              [prep]\n",
            "Bristol         [pobj]\n",
            ".               [punct]\n"
          ]
        }
      ],
      "source": [
        "for w in mysent: \n",
        "    print(f'{w.text:15s} [{w.dep_}]')"
      ]
    },
    {
      "cell_type": "markdown",
      "metadata": {
        "id": "CvpjifU2lP67"
      },
      "source": [
        "## Visualization: Using displaCy"
      ]
    },
    {
      "cell_type": "markdown",
      "metadata": {
        "id": "dPFHG5fklP67"
      },
      "source": [
        "spaCy comes with a built-in visualizer called displaCy. You can use it to visualize a dependency parse or named entities in a browser or a Jupyter notebook."
      ]
    },
    {
      "cell_type": "code",
      "execution_count": null,
      "metadata": {
        "id": "AvDLABCOlP67",
        "outputId": "34469fef-e991-435b-b8f1-9fef93a00cc5"
      },
      "outputs": [
        {
          "data": {
            "text/html": [
              "<span class=\"tex2jax_ignore\"><svg xmlns=\"http://www.w3.org/2000/svg\" xmlns:xlink=\"http://www.w3.org/1999/xlink\" xml:lang=\"en\" id=\"0d27d9f449524da181854b36251384f2-0\" class=\"displacy\" width=\"3890\" height=\"737.0\" direction=\"ltr\" style=\"max-width: none; height: 737.0px; color: #000000; background: #ffffff; font-family: Arial; direction: ltr\">\n",
              "<text class=\"displacy-token\" fill=\"currentColor\" text-anchor=\"middle\" y=\"647.0\">\n",
              "    <tspan class=\"displacy-word\" fill=\"currentColor\" x=\"50\">Rowling</tspan>\n",
              "    <tspan class=\"displacy-tag\" dy=\"2em\" fill=\"currentColor\" x=\"50\">PROPN</tspan>\n",
              "</text>\n",
              "\n",
              "<text class=\"displacy-token\" fill=\"currentColor\" text-anchor=\"middle\" y=\"647.0\">\n",
              "    <tspan class=\"displacy-word\" fill=\"currentColor\" x=\"170\">was</tspan>\n",
              "    <tspan class=\"displacy-tag\" dy=\"2em\" fill=\"currentColor\" x=\"170\">AUX</tspan>\n",
              "</text>\n",
              "\n",
              "<text class=\"displacy-token\" fill=\"currentColor\" text-anchor=\"middle\" y=\"647.0\">\n",
              "    <tspan class=\"displacy-word\" fill=\"currentColor\" x=\"290\">born</tspan>\n",
              "    <tspan class=\"displacy-tag\" dy=\"2em\" fill=\"currentColor\" x=\"290\">VERB</tspan>\n",
              "</text>\n",
              "\n",
              "<text class=\"displacy-token\" fill=\"currentColor\" text-anchor=\"middle\" y=\"647.0\">\n",
              "    <tspan class=\"displacy-word\" fill=\"currentColor\" x=\"410\">to</tspan>\n",
              "    <tspan class=\"displacy-tag\" dy=\"2em\" fill=\"currentColor\" x=\"410\">ADP</tspan>\n",
              "</text>\n",
              "\n",
              "<text class=\"displacy-token\" fill=\"currentColor\" text-anchor=\"middle\" y=\"647.0\">\n",
              "    <tspan class=\"displacy-word\" fill=\"currentColor\" x=\"530\">Peter</tspan>\n",
              "    <tspan class=\"displacy-tag\" dy=\"2em\" fill=\"currentColor\" x=\"530\">PROPN</tspan>\n",
              "</text>\n",
              "\n",
              "<text class=\"displacy-token\" fill=\"currentColor\" text-anchor=\"middle\" y=\"647.0\">\n",
              "    <tspan class=\"displacy-word\" fill=\"currentColor\" x=\"650\">James</tspan>\n",
              "    <tspan class=\"displacy-tag\" dy=\"2em\" fill=\"currentColor\" x=\"650\">PROPN</tspan>\n",
              "</text>\n",
              "\n",
              "<text class=\"displacy-token\" fill=\"currentColor\" text-anchor=\"middle\" y=\"647.0\">\n",
              "    <tspan class=\"displacy-word\" fill=\"currentColor\" x=\"770\">Rowling,</tspan>\n",
              "    <tspan class=\"displacy-tag\" dy=\"2em\" fill=\"currentColor\" x=\"770\">PROPN</tspan>\n",
              "</text>\n",
              "\n",
              "<text class=\"displacy-token\" fill=\"currentColor\" text-anchor=\"middle\" y=\"647.0\">\n",
              "    <tspan class=\"displacy-word\" fill=\"currentColor\" x=\"890\">a</tspan>\n",
              "    <tspan class=\"displacy-tag\" dy=\"2em\" fill=\"currentColor\" x=\"890\">DET</tspan>\n",
              "</text>\n",
              "\n",
              "<text class=\"displacy-token\" fill=\"currentColor\" text-anchor=\"middle\" y=\"647.0\">\n",
              "    <tspan class=\"displacy-word\" fill=\"currentColor\" x=\"1010\">Rolls-</tspan>\n",
              "    <tspan class=\"displacy-tag\" dy=\"2em\" fill=\"currentColor\" x=\"1010\">PROPN</tspan>\n",
              "</text>\n",
              "\n",
              "<text class=\"displacy-token\" fill=\"currentColor\" text-anchor=\"middle\" y=\"647.0\">\n",
              "    <tspan class=\"displacy-word\" fill=\"currentColor\" x=\"1130\">Royce</tspan>\n",
              "    <tspan class=\"displacy-tag\" dy=\"2em\" fill=\"currentColor\" x=\"1130\">PROPN</tspan>\n",
              "</text>\n",
              "\n",
              "<text class=\"displacy-token\" fill=\"currentColor\" text-anchor=\"middle\" y=\"647.0\">\n",
              "    <tspan class=\"displacy-word\" fill=\"currentColor\" x=\"1250\">aircraft</tspan>\n",
              "    <tspan class=\"displacy-tag\" dy=\"2em\" fill=\"currentColor\" x=\"1250\">NOUN</tspan>\n",
              "</text>\n",
              "\n",
              "<text class=\"displacy-token\" fill=\"currentColor\" text-anchor=\"middle\" y=\"647.0\">\n",
              "    <tspan class=\"displacy-word\" fill=\"currentColor\" x=\"1370\">engineer,</tspan>\n",
              "    <tspan class=\"displacy-tag\" dy=\"2em\" fill=\"currentColor\" x=\"1370\">NOUN</tspan>\n",
              "</text>\n",
              "\n",
              "<text class=\"displacy-token\" fill=\"currentColor\" text-anchor=\"middle\" y=\"647.0\">\n",
              "    <tspan class=\"displacy-word\" fill=\"currentColor\" x=\"1490\">and</tspan>\n",
              "    <tspan class=\"displacy-tag\" dy=\"2em\" fill=\"currentColor\" x=\"1490\">CCONJ</tspan>\n",
              "</text>\n",
              "\n",
              "<text class=\"displacy-token\" fill=\"currentColor\" text-anchor=\"middle\" y=\"647.0\">\n",
              "    <tspan class=\"displacy-word\" fill=\"currentColor\" x=\"1610\">Anne</tspan>\n",
              "    <tspan class=\"displacy-tag\" dy=\"2em\" fill=\"currentColor\" x=\"1610\">PROPN</tspan>\n",
              "</text>\n",
              "\n",
              "<text class=\"displacy-token\" fill=\"currentColor\" text-anchor=\"middle\" y=\"647.0\">\n",
              "    <tspan class=\"displacy-word\" fill=\"currentColor\" x=\"1730\">Rowling (</tspan>\n",
              "    <tspan class=\"displacy-tag\" dy=\"2em\" fill=\"currentColor\" x=\"1730\">PROPN</tspan>\n",
              "</text>\n",
              "\n",
              "<text class=\"displacy-token\" fill=\"currentColor\" text-anchor=\"middle\" y=\"647.0\">\n",
              "    <tspan class=\"displacy-word\" fill=\"currentColor\" x=\"1850\">née</tspan>\n",
              "    <tspan class=\"displacy-tag\" dy=\"2em\" fill=\"currentColor\" x=\"1850\">PROPN</tspan>\n",
              "</text>\n",
              "\n",
              "<text class=\"displacy-token\" fill=\"currentColor\" text-anchor=\"middle\" y=\"647.0\">\n",
              "    <tspan class=\"displacy-word\" fill=\"currentColor\" x=\"1970\">Volant),</tspan>\n",
              "    <tspan class=\"displacy-tag\" dy=\"2em\" fill=\"currentColor\" x=\"1970\">PROPN</tspan>\n",
              "</text>\n",
              "\n",
              "<text class=\"displacy-token\" fill=\"currentColor\" text-anchor=\"middle\" y=\"647.0\">\n",
              "    <tspan class=\"displacy-word\" fill=\"currentColor\" x=\"2090\">on</tspan>\n",
              "    <tspan class=\"displacy-tag\" dy=\"2em\" fill=\"currentColor\" x=\"2090\">ADP</tspan>\n",
              "</text>\n",
              "\n",
              "<text class=\"displacy-token\" fill=\"currentColor\" text-anchor=\"middle\" y=\"647.0\">\n",
              "    <tspan class=\"displacy-word\" fill=\"currentColor\" x=\"2210\">31</tspan>\n",
              "    <tspan class=\"displacy-tag\" dy=\"2em\" fill=\"currentColor\" x=\"2210\">NUM</tspan>\n",
              "</text>\n",
              "\n",
              "<text class=\"displacy-token\" fill=\"currentColor\" text-anchor=\"middle\" y=\"647.0\">\n",
              "    <tspan class=\"displacy-word\" fill=\"currentColor\" x=\"2330\">July</tspan>\n",
              "    <tspan class=\"displacy-tag\" dy=\"2em\" fill=\"currentColor\" x=\"2330\">PROPN</tspan>\n",
              "</text>\n",
              "\n",
              "<text class=\"displacy-token\" fill=\"currentColor\" text-anchor=\"middle\" y=\"647.0\">\n",
              "    <tspan class=\"displacy-word\" fill=\"currentColor\" x=\"2450\">1965</tspan>\n",
              "    <tspan class=\"displacy-tag\" dy=\"2em\" fill=\"currentColor\" x=\"2450\">NUM</tspan>\n",
              "</text>\n",
              "\n",
              "<text class=\"displacy-token\" fill=\"currentColor\" text-anchor=\"middle\" y=\"647.0\">\n",
              "    <tspan class=\"displacy-word\" fill=\"currentColor\" x=\"2570\">in</tspan>\n",
              "    <tspan class=\"displacy-tag\" dy=\"2em\" fill=\"currentColor\" x=\"2570\">ADP</tspan>\n",
              "</text>\n",
              "\n",
              "<text class=\"displacy-token\" fill=\"currentColor\" text-anchor=\"middle\" y=\"647.0\">\n",
              "    <tspan class=\"displacy-word\" fill=\"currentColor\" x=\"2690\">Yate,</tspan>\n",
              "    <tspan class=\"displacy-tag\" dy=\"2em\" fill=\"currentColor\" x=\"2690\">PROPN</tspan>\n",
              "</text>\n",
              "\n",
              "<text class=\"displacy-token\" fill=\"currentColor\" text-anchor=\"middle\" y=\"647.0\">\n",
              "    <tspan class=\"displacy-word\" fill=\"currentColor\" x=\"2810\">Gloucestershire,</tspan>\n",
              "    <tspan class=\"displacy-tag\" dy=\"2em\" fill=\"currentColor\" x=\"2810\">PROPN</tspan>\n",
              "</text>\n",
              "\n",
              "<text class=\"displacy-token\" fill=\"currentColor\" text-anchor=\"middle\" y=\"647.0\">\n",
              "    <tspan class=\"displacy-word\" fill=\"currentColor\" x=\"2930\">England,</tspan>\n",
              "    <tspan class=\"displacy-tag\" dy=\"2em\" fill=\"currentColor\" x=\"2930\">PROPN</tspan>\n",
              "</text>\n",
              "\n",
              "<text class=\"displacy-token\" fill=\"currentColor\" text-anchor=\"middle\" y=\"647.0\">\n",
              "    <tspan class=\"displacy-word\" fill=\"currentColor\" x=\"3050\">10</tspan>\n",
              "    <tspan class=\"displacy-tag\" dy=\"2em\" fill=\"currentColor\" x=\"3050\">NUM</tspan>\n",
              "</text>\n",
              "\n",
              "<text class=\"displacy-token\" fill=\"currentColor\" text-anchor=\"middle\" y=\"647.0\">\n",
              "    <tspan class=\"displacy-word\" fill=\"currentColor\" x=\"3170\">miles (</tspan>\n",
              "    <tspan class=\"displacy-tag\" dy=\"2em\" fill=\"currentColor\" x=\"3170\">NOUN</tspan>\n",
              "</text>\n",
              "\n",
              "<text class=\"displacy-token\" fill=\"currentColor\" text-anchor=\"middle\" y=\"647.0\">\n",
              "    <tspan class=\"displacy-word\" fill=\"currentColor\" x=\"3290\">16</tspan>\n",
              "    <tspan class=\"displacy-tag\" dy=\"2em\" fill=\"currentColor\" x=\"3290\">NUM</tspan>\n",
              "</text>\n",
              "\n",
              "<text class=\"displacy-token\" fill=\"currentColor\" text-anchor=\"middle\" y=\"647.0\">\n",
              "    <tspan class=\"displacy-word\" fill=\"currentColor\" x=\"3410\">km)</tspan>\n",
              "    <tspan class=\"displacy-tag\" dy=\"2em\" fill=\"currentColor\" x=\"3410\">NOUN</tspan>\n",
              "</text>\n",
              "\n",
              "<text class=\"displacy-token\" fill=\"currentColor\" text-anchor=\"middle\" y=\"647.0\">\n",
              "    <tspan class=\"displacy-word\" fill=\"currentColor\" x=\"3530\">northeast</tspan>\n",
              "    <tspan class=\"displacy-tag\" dy=\"2em\" fill=\"currentColor\" x=\"3530\">ADV</tspan>\n",
              "</text>\n",
              "\n",
              "<text class=\"displacy-token\" fill=\"currentColor\" text-anchor=\"middle\" y=\"647.0\">\n",
              "    <tspan class=\"displacy-word\" fill=\"currentColor\" x=\"3650\">of</tspan>\n",
              "    <tspan class=\"displacy-tag\" dy=\"2em\" fill=\"currentColor\" x=\"3650\">ADP</tspan>\n",
              "</text>\n",
              "\n",
              "<text class=\"displacy-token\" fill=\"currentColor\" text-anchor=\"middle\" y=\"647.0\">\n",
              "    <tspan class=\"displacy-word\" fill=\"currentColor\" x=\"3770\">Bristol.</tspan>\n",
              "    <tspan class=\"displacy-tag\" dy=\"2em\" fill=\"currentColor\" x=\"3770\">PROPN</tspan>\n",
              "</text>\n",
              "\n",
              "<g class=\"displacy-arrow\">\n",
              "    <path class=\"displacy-arc\" id=\"arrow-0d27d9f449524da181854b36251384f2-0-0\" stroke-width=\"2px\" d=\"M70,602.0 C70,482.0 250.0,482.0 250.0,602.0\" fill=\"none\" stroke=\"currentColor\"/>\n",
              "    <text dy=\"1.25em\" style=\"font-size: 0.8em; letter-spacing: 1px\">\n",
              "        <textPath xlink:href=\"#arrow-0d27d9f449524da181854b36251384f2-0-0\" class=\"displacy-label\" startOffset=\"50%\" side=\"left\" fill=\"currentColor\" text-anchor=\"middle\">nsubjpass</textPath>\n",
              "    </text>\n",
              "    <path class=\"displacy-arrowhead\" d=\"M70,604.0 L62,592.0 78,592.0\" fill=\"currentColor\"/>\n",
              "</g>\n",
              "\n",
              "<g class=\"displacy-arrow\">\n",
              "    <path class=\"displacy-arc\" id=\"arrow-0d27d9f449524da181854b36251384f2-0-1\" stroke-width=\"2px\" d=\"M190,602.0 C190,542.0 245.0,542.0 245.0,602.0\" fill=\"none\" stroke=\"currentColor\"/>\n",
              "    <text dy=\"1.25em\" style=\"font-size: 0.8em; letter-spacing: 1px\">\n",
              "        <textPath xlink:href=\"#arrow-0d27d9f449524da181854b36251384f2-0-1\" class=\"displacy-label\" startOffset=\"50%\" side=\"left\" fill=\"currentColor\" text-anchor=\"middle\">auxpass</textPath>\n",
              "    </text>\n",
              "    <path class=\"displacy-arrowhead\" d=\"M190,604.0 L182,592.0 198,592.0\" fill=\"currentColor\"/>\n",
              "</g>\n",
              "\n",
              "<g class=\"displacy-arrow\">\n",
              "    <path class=\"displacy-arc\" id=\"arrow-0d27d9f449524da181854b36251384f2-0-2\" stroke-width=\"2px\" d=\"M310,602.0 C310,542.0 365.0,542.0 365.0,602.0\" fill=\"none\" stroke=\"currentColor\"/>\n",
              "    <text dy=\"1.25em\" style=\"font-size: 0.8em; letter-spacing: 1px\">\n",
              "        <textPath xlink:href=\"#arrow-0d27d9f449524da181854b36251384f2-0-2\" class=\"displacy-label\" startOffset=\"50%\" side=\"left\" fill=\"currentColor\" text-anchor=\"middle\">prep</textPath>\n",
              "    </text>\n",
              "    <path class=\"displacy-arrowhead\" d=\"M365.0,604.0 L373.0,592.0 357.0,592.0\" fill=\"currentColor\"/>\n",
              "</g>\n",
              "\n",
              "<g class=\"displacy-arrow\">\n",
              "    <path class=\"displacy-arc\" id=\"arrow-0d27d9f449524da181854b36251384f2-0-3\" stroke-width=\"2px\" d=\"M550,602.0 C550,482.0 730.0,482.0 730.0,602.0\" fill=\"none\" stroke=\"currentColor\"/>\n",
              "    <text dy=\"1.25em\" style=\"font-size: 0.8em; letter-spacing: 1px\">\n",
              "        <textPath xlink:href=\"#arrow-0d27d9f449524da181854b36251384f2-0-3\" class=\"displacy-label\" startOffset=\"50%\" side=\"left\" fill=\"currentColor\" text-anchor=\"middle\">compound</textPath>\n",
              "    </text>\n",
              "    <path class=\"displacy-arrowhead\" d=\"M550,604.0 L542,592.0 558,592.0\" fill=\"currentColor\"/>\n",
              "</g>\n",
              "\n",
              "<g class=\"displacy-arrow\">\n",
              "    <path class=\"displacy-arc\" id=\"arrow-0d27d9f449524da181854b36251384f2-0-4\" stroke-width=\"2px\" d=\"M670,602.0 C670,542.0 725.0,542.0 725.0,602.0\" fill=\"none\" stroke=\"currentColor\"/>\n",
              "    <text dy=\"1.25em\" style=\"font-size: 0.8em; letter-spacing: 1px\">\n",
              "        <textPath xlink:href=\"#arrow-0d27d9f449524da181854b36251384f2-0-4\" class=\"displacy-label\" startOffset=\"50%\" side=\"left\" fill=\"currentColor\" text-anchor=\"middle\">compound</textPath>\n",
              "    </text>\n",
              "    <path class=\"displacy-arrowhead\" d=\"M670,604.0 L662,592.0 678,592.0\" fill=\"currentColor\"/>\n",
              "</g>\n",
              "\n",
              "<g class=\"displacy-arrow\">\n",
              "    <path class=\"displacy-arc\" id=\"arrow-0d27d9f449524da181854b36251384f2-0-5\" stroke-width=\"2px\" d=\"M430,602.0 C430,422.0 735.0,422.0 735.0,602.0\" fill=\"none\" stroke=\"currentColor\"/>\n",
              "    <text dy=\"1.25em\" style=\"font-size: 0.8em; letter-spacing: 1px\">\n",
              "        <textPath xlink:href=\"#arrow-0d27d9f449524da181854b36251384f2-0-5\" class=\"displacy-label\" startOffset=\"50%\" side=\"left\" fill=\"currentColor\" text-anchor=\"middle\">pobj</textPath>\n",
              "    </text>\n",
              "    <path class=\"displacy-arrowhead\" d=\"M735.0,604.0 L743.0,592.0 727.0,592.0\" fill=\"currentColor\"/>\n",
              "</g>\n",
              "\n",
              "<g class=\"displacy-arrow\">\n",
              "    <path class=\"displacy-arc\" id=\"arrow-0d27d9f449524da181854b36251384f2-0-6\" stroke-width=\"2px\" d=\"M910,602.0 C910,362.0 1340.0,362.0 1340.0,602.0\" fill=\"none\" stroke=\"currentColor\"/>\n",
              "    <text dy=\"1.25em\" style=\"font-size: 0.8em; letter-spacing: 1px\">\n",
              "        <textPath xlink:href=\"#arrow-0d27d9f449524da181854b36251384f2-0-6\" class=\"displacy-label\" startOffset=\"50%\" side=\"left\" fill=\"currentColor\" text-anchor=\"middle\">det</textPath>\n",
              "    </text>\n",
              "    <path class=\"displacy-arrowhead\" d=\"M910,604.0 L902,592.0 918,592.0\" fill=\"currentColor\"/>\n",
              "</g>\n",
              "\n",
              "<g class=\"displacy-arrow\">\n",
              "    <path class=\"displacy-arc\" id=\"arrow-0d27d9f449524da181854b36251384f2-0-7\" stroke-width=\"2px\" d=\"M1030,602.0 C1030,542.0 1085.0,542.0 1085.0,602.0\" fill=\"none\" stroke=\"currentColor\"/>\n",
              "    <text dy=\"1.25em\" style=\"font-size: 0.8em; letter-spacing: 1px\">\n",
              "        <textPath xlink:href=\"#arrow-0d27d9f449524da181854b36251384f2-0-7\" class=\"displacy-label\" startOffset=\"50%\" side=\"left\" fill=\"currentColor\" text-anchor=\"middle\">compound</textPath>\n",
              "    </text>\n",
              "    <path class=\"displacy-arrowhead\" d=\"M1030,604.0 L1022,592.0 1038,592.0\" fill=\"currentColor\"/>\n",
              "</g>\n",
              "\n",
              "<g class=\"displacy-arrow\">\n",
              "    <path class=\"displacy-arc\" id=\"arrow-0d27d9f449524da181854b36251384f2-0-8\" stroke-width=\"2px\" d=\"M1150,602.0 C1150,482.0 1330.0,482.0 1330.0,602.0\" fill=\"none\" stroke=\"currentColor\"/>\n",
              "    <text dy=\"1.25em\" style=\"font-size: 0.8em; letter-spacing: 1px\">\n",
              "        <textPath xlink:href=\"#arrow-0d27d9f449524da181854b36251384f2-0-8\" class=\"displacy-label\" startOffset=\"50%\" side=\"left\" fill=\"currentColor\" text-anchor=\"middle\">compound</textPath>\n",
              "    </text>\n",
              "    <path class=\"displacy-arrowhead\" d=\"M1150,604.0 L1142,592.0 1158,592.0\" fill=\"currentColor\"/>\n",
              "</g>\n",
              "\n",
              "<g class=\"displacy-arrow\">\n",
              "    <path class=\"displacy-arc\" id=\"arrow-0d27d9f449524da181854b36251384f2-0-9\" stroke-width=\"2px\" d=\"M1270,602.0 C1270,542.0 1325.0,542.0 1325.0,602.0\" fill=\"none\" stroke=\"currentColor\"/>\n",
              "    <text dy=\"1.25em\" style=\"font-size: 0.8em; letter-spacing: 1px\">\n",
              "        <textPath xlink:href=\"#arrow-0d27d9f449524da181854b36251384f2-0-9\" class=\"displacy-label\" startOffset=\"50%\" side=\"left\" fill=\"currentColor\" text-anchor=\"middle\">compound</textPath>\n",
              "    </text>\n",
              "    <path class=\"displacy-arrowhead\" d=\"M1270,604.0 L1262,592.0 1278,592.0\" fill=\"currentColor\"/>\n",
              "</g>\n",
              "\n",
              "<g class=\"displacy-arrow\">\n",
              "    <path class=\"displacy-arc\" id=\"arrow-0d27d9f449524da181854b36251384f2-0-10\" stroke-width=\"2px\" d=\"M790,602.0 C790,302.0 1345.0,302.0 1345.0,602.0\" fill=\"none\" stroke=\"currentColor\"/>\n",
              "    <text dy=\"1.25em\" style=\"font-size: 0.8em; letter-spacing: 1px\">\n",
              "        <textPath xlink:href=\"#arrow-0d27d9f449524da181854b36251384f2-0-10\" class=\"displacy-label\" startOffset=\"50%\" side=\"left\" fill=\"currentColor\" text-anchor=\"middle\">appos</textPath>\n",
              "    </text>\n",
              "    <path class=\"displacy-arrowhead\" d=\"M1345.0,604.0 L1353.0,592.0 1337.0,592.0\" fill=\"currentColor\"/>\n",
              "</g>\n",
              "\n",
              "<g class=\"displacy-arrow\">\n",
              "    <path class=\"displacy-arc\" id=\"arrow-0d27d9f449524da181854b36251384f2-0-11\" stroke-width=\"2px\" d=\"M310,602.0 C310,122.0 1480.0,122.0 1480.0,602.0\" fill=\"none\" stroke=\"currentColor\"/>\n",
              "    <text dy=\"1.25em\" style=\"font-size: 0.8em; letter-spacing: 1px\">\n",
              "        <textPath xlink:href=\"#arrow-0d27d9f449524da181854b36251384f2-0-11\" class=\"displacy-label\" startOffset=\"50%\" side=\"left\" fill=\"currentColor\" text-anchor=\"middle\">cc</textPath>\n",
              "    </text>\n",
              "    <path class=\"displacy-arrowhead\" d=\"M1480.0,604.0 L1488.0,592.0 1472.0,592.0\" fill=\"currentColor\"/>\n",
              "</g>\n",
              "\n",
              "<g class=\"displacy-arrow\">\n",
              "    <path class=\"displacy-arc\" id=\"arrow-0d27d9f449524da181854b36251384f2-0-12\" stroke-width=\"2px\" d=\"M1630,602.0 C1630,542.0 1685.0,542.0 1685.0,602.0\" fill=\"none\" stroke=\"currentColor\"/>\n",
              "    <text dy=\"1.25em\" style=\"font-size: 0.8em; letter-spacing: 1px\">\n",
              "        <textPath xlink:href=\"#arrow-0d27d9f449524da181854b36251384f2-0-12\" class=\"displacy-label\" startOffset=\"50%\" side=\"left\" fill=\"currentColor\" text-anchor=\"middle\">compound</textPath>\n",
              "    </text>\n",
              "    <path class=\"displacy-arrowhead\" d=\"M1630,604.0 L1622,592.0 1638,592.0\" fill=\"currentColor\"/>\n",
              "</g>\n",
              "\n",
              "<g class=\"displacy-arrow\">\n",
              "    <path class=\"displacy-arc\" id=\"arrow-0d27d9f449524da181854b36251384f2-0-13\" stroke-width=\"2px\" d=\"M310,602.0 C310,62.0 1725.0,62.0 1725.0,602.0\" fill=\"none\" stroke=\"currentColor\"/>\n",
              "    <text dy=\"1.25em\" style=\"font-size: 0.8em; letter-spacing: 1px\">\n",
              "        <textPath xlink:href=\"#arrow-0d27d9f449524da181854b36251384f2-0-13\" class=\"displacy-label\" startOffset=\"50%\" side=\"left\" fill=\"currentColor\" text-anchor=\"middle\">conj</textPath>\n",
              "    </text>\n",
              "    <path class=\"displacy-arrowhead\" d=\"M1725.0,604.0 L1733.0,592.0 1717.0,592.0\" fill=\"currentColor\"/>\n",
              "</g>\n",
              "\n",
              "<g class=\"displacy-arrow\">\n",
              "    <path class=\"displacy-arc\" id=\"arrow-0d27d9f449524da181854b36251384f2-0-14\" stroke-width=\"2px\" d=\"M1870,602.0 C1870,542.0 1925.0,542.0 1925.0,602.0\" fill=\"none\" stroke=\"currentColor\"/>\n",
              "    <text dy=\"1.25em\" style=\"font-size: 0.8em; letter-spacing: 1px\">\n",
              "        <textPath xlink:href=\"#arrow-0d27d9f449524da181854b36251384f2-0-14\" class=\"displacy-label\" startOffset=\"50%\" side=\"left\" fill=\"currentColor\" text-anchor=\"middle\">compound</textPath>\n",
              "    </text>\n",
              "    <path class=\"displacy-arrowhead\" d=\"M1870,604.0 L1862,592.0 1878,592.0\" fill=\"currentColor\"/>\n",
              "</g>\n",
              "\n",
              "<g class=\"displacy-arrow\">\n",
              "    <path class=\"displacy-arc\" id=\"arrow-0d27d9f449524da181854b36251384f2-0-15\" stroke-width=\"2px\" d=\"M1750,602.0 C1750,482.0 1930.0,482.0 1930.0,602.0\" fill=\"none\" stroke=\"currentColor\"/>\n",
              "    <text dy=\"1.25em\" style=\"font-size: 0.8em; letter-spacing: 1px\">\n",
              "        <textPath xlink:href=\"#arrow-0d27d9f449524da181854b36251384f2-0-15\" class=\"displacy-label\" startOffset=\"50%\" side=\"left\" fill=\"currentColor\" text-anchor=\"middle\">appos</textPath>\n",
              "    </text>\n",
              "    <path class=\"displacy-arrowhead\" d=\"M1930.0,604.0 L1938.0,592.0 1922.0,592.0\" fill=\"currentColor\"/>\n",
              "</g>\n",
              "\n",
              "<g class=\"displacy-arrow\">\n",
              "    <path class=\"displacy-arc\" id=\"arrow-0d27d9f449524da181854b36251384f2-0-16\" stroke-width=\"2px\" d=\"M310,602.0 C310,2.0 2090.0,2.0 2090.0,602.0\" fill=\"none\" stroke=\"currentColor\"/>\n",
              "    <text dy=\"1.25em\" style=\"font-size: 0.8em; letter-spacing: 1px\">\n",
              "        <textPath xlink:href=\"#arrow-0d27d9f449524da181854b36251384f2-0-16\" class=\"displacy-label\" startOffset=\"50%\" side=\"left\" fill=\"currentColor\" text-anchor=\"middle\">prep</textPath>\n",
              "    </text>\n",
              "    <path class=\"displacy-arrowhead\" d=\"M2090.0,604.0 L2098.0,592.0 2082.0,592.0\" fill=\"currentColor\"/>\n",
              "</g>\n",
              "\n",
              "<g class=\"displacy-arrow\">\n",
              "    <path class=\"displacy-arc\" id=\"arrow-0d27d9f449524da181854b36251384f2-0-17\" stroke-width=\"2px\" d=\"M2230,602.0 C2230,542.0 2285.0,542.0 2285.0,602.0\" fill=\"none\" stroke=\"currentColor\"/>\n",
              "    <text dy=\"1.25em\" style=\"font-size: 0.8em; letter-spacing: 1px\">\n",
              "        <textPath xlink:href=\"#arrow-0d27d9f449524da181854b36251384f2-0-17\" class=\"displacy-label\" startOffset=\"50%\" side=\"left\" fill=\"currentColor\" text-anchor=\"middle\">nummod</textPath>\n",
              "    </text>\n",
              "    <path class=\"displacy-arrowhead\" d=\"M2230,604.0 L2222,592.0 2238,592.0\" fill=\"currentColor\"/>\n",
              "</g>\n",
              "\n",
              "<g class=\"displacy-arrow\">\n",
              "    <path class=\"displacy-arc\" id=\"arrow-0d27d9f449524da181854b36251384f2-0-18\" stroke-width=\"2px\" d=\"M2110,602.0 C2110,482.0 2290.0,482.0 2290.0,602.0\" fill=\"none\" stroke=\"currentColor\"/>\n",
              "    <text dy=\"1.25em\" style=\"font-size: 0.8em; letter-spacing: 1px\">\n",
              "        <textPath xlink:href=\"#arrow-0d27d9f449524da181854b36251384f2-0-18\" class=\"displacy-label\" startOffset=\"50%\" side=\"left\" fill=\"currentColor\" text-anchor=\"middle\">pobj</textPath>\n",
              "    </text>\n",
              "    <path class=\"displacy-arrowhead\" d=\"M2290.0,604.0 L2298.0,592.0 2282.0,592.0\" fill=\"currentColor\"/>\n",
              "</g>\n",
              "\n",
              "<g class=\"displacy-arrow\">\n",
              "    <path class=\"displacy-arc\" id=\"arrow-0d27d9f449524da181854b36251384f2-0-19\" stroke-width=\"2px\" d=\"M2350,602.0 C2350,542.0 2405.0,542.0 2405.0,602.0\" fill=\"none\" stroke=\"currentColor\"/>\n",
              "    <text dy=\"1.25em\" style=\"font-size: 0.8em; letter-spacing: 1px\">\n",
              "        <textPath xlink:href=\"#arrow-0d27d9f449524da181854b36251384f2-0-19\" class=\"displacy-label\" startOffset=\"50%\" side=\"left\" fill=\"currentColor\" text-anchor=\"middle\">nummod</textPath>\n",
              "    </text>\n",
              "    <path class=\"displacy-arrowhead\" d=\"M2405.0,604.0 L2413.0,592.0 2397.0,592.0\" fill=\"currentColor\"/>\n",
              "</g>\n",
              "\n",
              "<g class=\"displacy-arrow\">\n",
              "    <path class=\"displacy-arc\" id=\"arrow-0d27d9f449524da181854b36251384f2-0-20\" stroke-width=\"2px\" d=\"M2350,602.0 C2350,482.0 2530.0,482.0 2530.0,602.0\" fill=\"none\" stroke=\"currentColor\"/>\n",
              "    <text dy=\"1.25em\" style=\"font-size: 0.8em; letter-spacing: 1px\">\n",
              "        <textPath xlink:href=\"#arrow-0d27d9f449524da181854b36251384f2-0-20\" class=\"displacy-label\" startOffset=\"50%\" side=\"left\" fill=\"currentColor\" text-anchor=\"middle\">prep</textPath>\n",
              "    </text>\n",
              "    <path class=\"displacy-arrowhead\" d=\"M2530.0,604.0 L2538.0,592.0 2522.0,592.0\" fill=\"currentColor\"/>\n",
              "</g>\n",
              "\n",
              "<g class=\"displacy-arrow\">\n",
              "    <path class=\"displacy-arc\" id=\"arrow-0d27d9f449524da181854b36251384f2-0-21\" stroke-width=\"2px\" d=\"M2590,602.0 C2590,542.0 2645.0,542.0 2645.0,602.0\" fill=\"none\" stroke=\"currentColor\"/>\n",
              "    <text dy=\"1.25em\" style=\"font-size: 0.8em; letter-spacing: 1px\">\n",
              "        <textPath xlink:href=\"#arrow-0d27d9f449524da181854b36251384f2-0-21\" class=\"displacy-label\" startOffset=\"50%\" side=\"left\" fill=\"currentColor\" text-anchor=\"middle\">pobj</textPath>\n",
              "    </text>\n",
              "    <path class=\"displacy-arrowhead\" d=\"M2645.0,604.0 L2653.0,592.0 2637.0,592.0\" fill=\"currentColor\"/>\n",
              "</g>\n",
              "\n",
              "<g class=\"displacy-arrow\">\n",
              "    <path class=\"displacy-arc\" id=\"arrow-0d27d9f449524da181854b36251384f2-0-22\" stroke-width=\"2px\" d=\"M2710,602.0 C2710,542.0 2765.0,542.0 2765.0,602.0\" fill=\"none\" stroke=\"currentColor\"/>\n",
              "    <text dy=\"1.25em\" style=\"font-size: 0.8em; letter-spacing: 1px\">\n",
              "        <textPath xlink:href=\"#arrow-0d27d9f449524da181854b36251384f2-0-22\" class=\"displacy-label\" startOffset=\"50%\" side=\"left\" fill=\"currentColor\" text-anchor=\"middle\">conj</textPath>\n",
              "    </text>\n",
              "    <path class=\"displacy-arrowhead\" d=\"M2765.0,604.0 L2773.0,592.0 2757.0,592.0\" fill=\"currentColor\"/>\n",
              "</g>\n",
              "\n",
              "<g class=\"displacy-arrow\">\n",
              "    <path class=\"displacy-arc\" id=\"arrow-0d27d9f449524da181854b36251384f2-0-23\" stroke-width=\"2px\" d=\"M2830,602.0 C2830,542.0 2885.0,542.0 2885.0,602.0\" fill=\"none\" stroke=\"currentColor\"/>\n",
              "    <text dy=\"1.25em\" style=\"font-size: 0.8em; letter-spacing: 1px\">\n",
              "        <textPath xlink:href=\"#arrow-0d27d9f449524da181854b36251384f2-0-23\" class=\"displacy-label\" startOffset=\"50%\" side=\"left\" fill=\"currentColor\" text-anchor=\"middle\">conj</textPath>\n",
              "    </text>\n",
              "    <path class=\"displacy-arrowhead\" d=\"M2885.0,604.0 L2893.0,592.0 2877.0,592.0\" fill=\"currentColor\"/>\n",
              "</g>\n",
              "\n",
              "<g class=\"displacy-arrow\">\n",
              "    <path class=\"displacy-arc\" id=\"arrow-0d27d9f449524da181854b36251384f2-0-24\" stroke-width=\"2px\" d=\"M3070,602.0 C3070,542.0 3125.0,542.0 3125.0,602.0\" fill=\"none\" stroke=\"currentColor\"/>\n",
              "    <text dy=\"1.25em\" style=\"font-size: 0.8em; letter-spacing: 1px\">\n",
              "        <textPath xlink:href=\"#arrow-0d27d9f449524da181854b36251384f2-0-24\" class=\"displacy-label\" startOffset=\"50%\" side=\"left\" fill=\"currentColor\" text-anchor=\"middle\">nummod</textPath>\n",
              "    </text>\n",
              "    <path class=\"displacy-arrowhead\" d=\"M3070,604.0 L3062,592.0 3078,592.0\" fill=\"currentColor\"/>\n",
              "</g>\n",
              "\n",
              "<g class=\"displacy-arrow\">\n",
              "    <path class=\"displacy-arc\" id=\"arrow-0d27d9f449524da181854b36251384f2-0-25\" stroke-width=\"2px\" d=\"M2350,602.0 C2350,242.0 3150.0,242.0 3150.0,602.0\" fill=\"none\" stroke=\"currentColor\"/>\n",
              "    <text dy=\"1.25em\" style=\"font-size: 0.8em; letter-spacing: 1px\">\n",
              "        <textPath xlink:href=\"#arrow-0d27d9f449524da181854b36251384f2-0-25\" class=\"displacy-label\" startOffset=\"50%\" side=\"left\" fill=\"currentColor\" text-anchor=\"middle\">appos</textPath>\n",
              "    </text>\n",
              "    <path class=\"displacy-arrowhead\" d=\"M3150.0,604.0 L3158.0,592.0 3142.0,592.0\" fill=\"currentColor\"/>\n",
              "</g>\n",
              "\n",
              "<g class=\"displacy-arrow\">\n",
              "    <path class=\"displacy-arc\" id=\"arrow-0d27d9f449524da181854b36251384f2-0-26\" stroke-width=\"2px\" d=\"M3310,602.0 C3310,542.0 3365.0,542.0 3365.0,602.0\" fill=\"none\" stroke=\"currentColor\"/>\n",
              "    <text dy=\"1.25em\" style=\"font-size: 0.8em; letter-spacing: 1px\">\n",
              "        <textPath xlink:href=\"#arrow-0d27d9f449524da181854b36251384f2-0-26\" class=\"displacy-label\" startOffset=\"50%\" side=\"left\" fill=\"currentColor\" text-anchor=\"middle\">nummod</textPath>\n",
              "    </text>\n",
              "    <path class=\"displacy-arrowhead\" d=\"M3310,604.0 L3302,592.0 3318,592.0\" fill=\"currentColor\"/>\n",
              "</g>\n",
              "\n",
              "<g class=\"displacy-arrow\">\n",
              "    <path class=\"displacy-arc\" id=\"arrow-0d27d9f449524da181854b36251384f2-0-27\" stroke-width=\"2px\" d=\"M2350,602.0 C2350,182.0 3395.0,182.0 3395.0,602.0\" fill=\"none\" stroke=\"currentColor\"/>\n",
              "    <text dy=\"1.25em\" style=\"font-size: 0.8em; letter-spacing: 1px\">\n",
              "        <textPath xlink:href=\"#arrow-0d27d9f449524da181854b36251384f2-0-27\" class=\"displacy-label\" startOffset=\"50%\" side=\"left\" fill=\"currentColor\" text-anchor=\"middle\">appos</textPath>\n",
              "    </text>\n",
              "    <path class=\"displacy-arrowhead\" d=\"M3395.0,604.0 L3403.0,592.0 3387.0,592.0\" fill=\"currentColor\"/>\n",
              "</g>\n",
              "\n",
              "<g class=\"displacy-arrow\">\n",
              "    <path class=\"displacy-arc\" id=\"arrow-0d27d9f449524da181854b36251384f2-0-28\" stroke-width=\"2px\" d=\"M2350,602.0 C2350,122.0 3520.0,122.0 3520.0,602.0\" fill=\"none\" stroke=\"currentColor\"/>\n",
              "    <text dy=\"1.25em\" style=\"font-size: 0.8em; letter-spacing: 1px\">\n",
              "        <textPath xlink:href=\"#arrow-0d27d9f449524da181854b36251384f2-0-28\" class=\"displacy-label\" startOffset=\"50%\" side=\"left\" fill=\"currentColor\" text-anchor=\"middle\">advmod</textPath>\n",
              "    </text>\n",
              "    <path class=\"displacy-arrowhead\" d=\"M3520.0,604.0 L3528.0,592.0 3512.0,592.0\" fill=\"currentColor\"/>\n",
              "</g>\n",
              "\n",
              "<g class=\"displacy-arrow\">\n",
              "    <path class=\"displacy-arc\" id=\"arrow-0d27d9f449524da181854b36251384f2-0-29\" stroke-width=\"2px\" d=\"M3550,602.0 C3550,542.0 3605.0,542.0 3605.0,602.0\" fill=\"none\" stroke=\"currentColor\"/>\n",
              "    <text dy=\"1.25em\" style=\"font-size: 0.8em; letter-spacing: 1px\">\n",
              "        <textPath xlink:href=\"#arrow-0d27d9f449524da181854b36251384f2-0-29\" class=\"displacy-label\" startOffset=\"50%\" side=\"left\" fill=\"currentColor\" text-anchor=\"middle\">prep</textPath>\n",
              "    </text>\n",
              "    <path class=\"displacy-arrowhead\" d=\"M3605.0,604.0 L3613.0,592.0 3597.0,592.0\" fill=\"currentColor\"/>\n",
              "</g>\n",
              "\n",
              "<g class=\"displacy-arrow\">\n",
              "    <path class=\"displacy-arc\" id=\"arrow-0d27d9f449524da181854b36251384f2-0-30\" stroke-width=\"2px\" d=\"M3670,602.0 C3670,542.0 3725.0,542.0 3725.0,602.0\" fill=\"none\" stroke=\"currentColor\"/>\n",
              "    <text dy=\"1.25em\" style=\"font-size: 0.8em; letter-spacing: 1px\">\n",
              "        <textPath xlink:href=\"#arrow-0d27d9f449524da181854b36251384f2-0-30\" class=\"displacy-label\" startOffset=\"50%\" side=\"left\" fill=\"currentColor\" text-anchor=\"middle\">pobj</textPath>\n",
              "    </text>\n",
              "    <path class=\"displacy-arrowhead\" d=\"M3725.0,604.0 L3733.0,592.0 3717.0,592.0\" fill=\"currentColor\"/>\n",
              "</g>\n",
              "</svg></span>"
            ],
            "text/plain": [
              "<IPython.core.display.HTML object>"
            ]
          },
          "metadata": {},
          "output_type": "display_data"
        }
      ],
      "source": [
        "from spacy import displacy\n",
        "options = {\"distance\": 120}\n",
        "displacy.render(mysent, style=\"dep\", options=options)"
      ]
    },
    {
      "cell_type": "markdown",
      "metadata": {
        "id": "ACPGp1vBlP67"
      },
      "source": [
        "## Entity recognition"
      ]
    },
    {
      "cell_type": "markdown",
      "metadata": {
        "id": "mOJbPiLLlP67"
      },
      "source": [
        "Entity recognition is the process of classifying named entities found in a text into pre-defined categories, such as persons, places, organizations, dates, etc. spaCy uses a statistical model to classify a broad range of entities, including persons, events, works-of-art and nationalities / religion.\n",
        "\n",
        "Let's parse our sentence, then access the identified entities using the `doc` or `sent` object's `.ents` method. With this method called on the `mysent` we can access additional `token` methods, specifically `.label_`:"
      ]
    },
    {
      "cell_type": "code",
      "execution_count": null,
      "metadata": {
        "id": "HMYwOCCKlP67",
        "outputId": "c85a4722-4d51-4944-a764-6d056320fc81"
      },
      "outputs": [
        {
          "name": "stdout",
          "output_type": "stream",
          "text": [
            "Peter James Rowling [PERSON]\n",
            "Rolls-Royce     [ORG]\n",
            "Anne Rowling    [PERSON]\n",
            "Volant          [PERSON]\n",
            "31 July 1965    [DATE]\n",
            "Yate            [PERSON]\n",
            "England         [GPE]\n",
            "10 miles        [QUANTITY]\n",
            "16 km           [QUANTITY]\n",
            "Bristol         [ORG]\n"
          ]
        }
      ],
      "source": [
        "for ent in mysent.ents:\n",
        "    print(f'{ent.text:15s} [{ent.label_}]')"
      ]
    },
    {
      "cell_type": "markdown",
      "metadata": {
        "id": "Fnu5sHMFlP67"
      },
      "source": [
        "## Rule-Based Matching"
      ]
    },
    {
      "cell_type": "markdown",
      "metadata": {
        "id": "gD3_XHRwlP67"
      },
      "source": [
        "Rule-based matching is one of the steps in extracting information from unstructured text. It’s used to identify and extract tokens and phrases according to patterns (such as lowercase) and grammatical features (such as part of speech).\n",
        "\n",
        "Rule-based matching can use regular expressions to extract entities or relations from an unstructured text. It’s different from extracting text using regular expressions only in the sense that regular expressions don’t consider the lexical and grammatical attributes of the text.\n",
        "\n",
        "The spaCy library comes with `Matcher` tool that can be used to specify custom rules for phrase matching. The process to use the `Matcher` tool is pretty straight forward. Here's an example:"
      ]
    },
    {
      "cell_type": "code",
      "execution_count": null,
      "metadata": {
        "id": "PN5gpmdvlP67",
        "outputId": "030def6c-6d8a-4fa1-871f-9fc18231d6a3"
      },
      "outputs": [
        {
          "name": "stdout",
          "output_type": "stream",
          "text": [
            "Rowling (PROPN) was (AUX) born (VERB) to (ADP) Peter (PROPN) James (PROPN) Rowling (PROPN) , (PUNCT) a (DET) Rolls (PROPN) - (PUNCT) Royce (PROPN) aircraft (NOUN) engineer (NOUN) , (PUNCT) and (CCONJ) Anne (PROPN) Rowling (PROPN) ( (PUNCT) née (PROPN) Volant (PROPN) ) (PUNCT) , (PUNCT) on (ADP) 31 (NUM) July (PROPN) 1965 (NUM) in (ADP) Yate (PROPN) , (PUNCT) Gloucestershire (PROPN) , (PUNCT) England (PROPN) , (PUNCT) 10 (NUM) miles (NOUN) ( (PUNCT) 16 (NUM) km (NOUN) ) (PUNCT) northeast (ADV) of (ADP) Bristol (PROPN) . (PUNCT) "
          ]
        }
      ],
      "source": [
        "for tok in mysent:\n",
        "    print(f'{tok} ({tok.pos_}) ', end='')"
      ]
    },
    {
      "cell_type": "code",
      "execution_count": null,
      "metadata": {
        "scrolled": true,
        "id": "Ouxb3bItlP68",
        "outputId": "c4464912-91ba-4aa5-9b8a-7b55e70a4f3b"
      },
      "outputs": [
        {
          "name": "stdout",
          "output_type": "stream",
          "text": [
            "Rowling was born to Peter James Rowling\n"
          ]
        }
      ],
      "source": [
        "from spacy.matcher import Matcher\n",
        "\n",
        "# define the pattern \n",
        "patterns = [\n",
        "    [{'POS': 'PROPN'}, {'LOWER': 'married'}, {'ENT_TYPE': 'PERSON'}],\n",
        "    [{'POS':'PROPN'}, {'LOWER':'was'}, {'LOWER':'born'}, {'LOWER':'to'}, {'POS':'PROPN', 'OP':'+'}],\n",
        "]\n",
        "   \n",
        "# Matcher class object \n",
        "matcher = Matcher(nlp.vocab) \n",
        "#matcher.add(\"matching_1\", None, pattern) \n",
        "matcher.add(\"matching_2\", patterns) \n",
        "\n",
        "matches = matcher(doc) # multiple matches\n",
        "last_match = matches[-1]\n",
        "span = doc[last_match[1]:last_match[2]] \n",
        "print(span.text)"
      ]
    },
    {
      "cell_type": "markdown",
      "metadata": {
        "id": "hJ1rQJBwlP68"
      },
      "source": [
        "**Notes**:\n",
        "- You can find additional examples and use-cases in [SpaCy's documentation](https://spacy.io/usage/rule-based-matching).\n",
        "- You can use the online [Rule-based Matcher Explorer](https://explosion.ai/demos/matcher) to test spaCy's rule-based `Matcher` by creating token patterns interactively and executing them.\n",
        "- Here's a nice [article](https://stackabuse.com/python-for-nlp-vocabulary-and-phrase-matching-with-spacy/) you can review. In the article, the author explores vocabulary and phrase matching using the spaCy library. He defines patterns and detects phrases that match the defined patterns. "
      ]
    },
    {
      "cell_type": "markdown",
      "metadata": {
        "id": "XkMJ9FADlP68"
      },
      "source": [
        "Now, you know how to perform some basic NLP tasks like sentence segmentation, tokenization, POS tagging, entity recognition, and - most important - Rule-Based Matching. You now have enough knowledge about how to get the entities and the relations between entities and extract structured data that can be used for downstream applications, such as building a Knowledge Graph! Congratulations!\n",
        "\n",
        "You can start applying this knowledge on the tasks you are required to do for Homework 02 of the class :)"
      ]
    },
    {
      "cell_type": "code",
      "execution_count": null,
      "metadata": {
        "id": "P3KRDyW6lP68"
      },
      "outputs": [],
      "source": []
    }
  ],
  "metadata": {
    "kernelspec": {
      "display_name": "Python 3 (ipykernel)",
      "language": "python",
      "name": "python3"
    },
    "language_info": {
      "codemirror_mode": {
        "name": "ipython",
        "version": 3
      },
      "file_extension": ".py",
      "mimetype": "text/x-python",
      "name": "python",
      "nbconvert_exporter": "python",
      "pygments_lexer": "ipython3",
      "version": "3.9.6"
    },
    "nteract": {
      "version": "0.15.0"
    },
    "colab": {
      "provenance": [],
      "include_colab_link": true
    }
  },
  "nbformat": 4,
  "nbformat_minor": 0
}